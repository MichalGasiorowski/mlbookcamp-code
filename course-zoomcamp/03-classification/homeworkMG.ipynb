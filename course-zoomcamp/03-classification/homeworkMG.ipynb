{
 "cells": [
  {
   "cell_type": "code",
   "execution_count": 1,
   "metadata": {
    "collapsed": true,
    "pycharm": {
     "name": "#%%\n"
    }
   },
   "outputs": [],
   "source": [
    "%matplotlib inline\n",
    "\n",
    "import pandas as pd\n",
    "import numpy as np\n",
    "import matplotlib.pyplot as plt\n",
    "import seaborn as sns\n",
    "\n",
    "import warnings\n",
    "warnings.filterwarnings(\"ignore\")"
   ]
  },
  {
   "cell_type": "markdown",
   "source": [
    "Importing the data"
   ],
   "metadata": {
    "collapsed": false,
    "pycharm": {
     "name": "#%% md\n"
    }
   }
  },
  {
   "cell_type": "code",
   "execution_count": 2,
   "outputs": [
    {
     "name": "stdout",
     "output_type": "stream",
     "text": [
      "mkdir: cannot create directory ‘./data’: File exists\r\n",
      "--2022-06-14 10:55:41--  https://raw.githubusercontent.com/alexeygrigorev/datasets/master/AB_NYC_2019.csv\r\n",
      "Resolving raw.githubusercontent.com (raw.githubusercontent.com)... 2606:50c0:8000::154, 2606:50c0:8002::154, 2606:50c0:8003::154, ...\r\n",
      "Connecting to raw.githubusercontent.com (raw.githubusercontent.com)|2606:50c0:8000::154|:443... connected.\r\n",
      "HTTP request sent, awaiting response... 200 OK\r\n",
      "Length: 7077973 (6.8M) [text/plain]\r\n",
      "Saving to: ‘./data/AB_NYC_2019.csv.1’\r\n",
      "\r\n",
      "AB_NYC_2019.csv.1   100%[===================>]   6.75M  11.2MB/s    in 0.6s    \r\n",
      "\r\n",
      "2022-06-14 10:55:43 (11.2 MB/s) - ‘./data/AB_NYC_2019.csv.1’ saved [7077973/7077973]\r\n",
      "\r\n"
     ]
    }
   ],
   "source": [
    "data_url = 'https://raw.githubusercontent.com/alexeygrigorev/datasets/master/AB_NYC_2019.csv'\n",
    "!mkdir './data'\n",
    "!wget $data_url -P './data'"
   ],
   "metadata": {
    "collapsed": false,
    "pycharm": {
     "name": "#%%\n"
    }
   }
  },
  {
   "cell_type": "code",
   "execution_count": 6,
   "outputs": [
    {
     "data": {
      "text/plain": "     id                                              name  host_id  \\\n0  2539                Clean & quiet apt home by the park     2787   \n1  2595                             Skylit Midtown Castle     2845   \n2  3647               THE VILLAGE OF HARLEM....NEW YORK !     4632   \n3  3831                   Cozy Entire Floor of Brownstone     4869   \n4  5022  Entire Apt: Spacious Studio/Loft by central park     7192   \n\n     host_name neighbourhood_group neighbourhood  latitude  longitude  \\\n0         John            Brooklyn    Kensington  40.64749  -73.97237   \n1     Jennifer           Manhattan       Midtown  40.75362  -73.98377   \n2    Elisabeth           Manhattan        Harlem  40.80902  -73.94190   \n3  LisaRoxanne            Brooklyn  Clinton Hill  40.68514  -73.95976   \n4        Laura           Manhattan   East Harlem  40.79851  -73.94399   \n\n         room_type  price  minimum_nights  number_of_reviews last_review  \\\n0     Private room    149               1                  9  2018-10-19   \n1  Entire home/apt    225               1                 45  2019-05-21   \n2     Private room    150               3                  0         NaN   \n3  Entire home/apt     89               1                270  2019-07-05   \n4  Entire home/apt     80              10                  9  2018-11-19   \n\n   reviews_per_month  calculated_host_listings_count  availability_365  \n0               0.21                               6               365  \n1               0.38                               2               355  \n2                NaN                               1               365  \n3               4.64                               1               194  \n4               0.10                               1                 0  ",
      "text/html": "<div>\n<style scoped>\n    .dataframe tbody tr th:only-of-type {\n        vertical-align: middle;\n    }\n\n    .dataframe tbody tr th {\n        vertical-align: top;\n    }\n\n    .dataframe thead th {\n        text-align: right;\n    }\n</style>\n<table border=\"1\" class=\"dataframe\">\n  <thead>\n    <tr style=\"text-align: right;\">\n      <th></th>\n      <th>id</th>\n      <th>name</th>\n      <th>host_id</th>\n      <th>host_name</th>\n      <th>neighbourhood_group</th>\n      <th>neighbourhood</th>\n      <th>latitude</th>\n      <th>longitude</th>\n      <th>room_type</th>\n      <th>price</th>\n      <th>minimum_nights</th>\n      <th>number_of_reviews</th>\n      <th>last_review</th>\n      <th>reviews_per_month</th>\n      <th>calculated_host_listings_count</th>\n      <th>availability_365</th>\n    </tr>\n  </thead>\n  <tbody>\n    <tr>\n      <th>0</th>\n      <td>2539</td>\n      <td>Clean &amp; quiet apt home by the park</td>\n      <td>2787</td>\n      <td>John</td>\n      <td>Brooklyn</td>\n      <td>Kensington</td>\n      <td>40.64749</td>\n      <td>-73.97237</td>\n      <td>Private room</td>\n      <td>149</td>\n      <td>1</td>\n      <td>9</td>\n      <td>2018-10-19</td>\n      <td>0.21</td>\n      <td>6</td>\n      <td>365</td>\n    </tr>\n    <tr>\n      <th>1</th>\n      <td>2595</td>\n      <td>Skylit Midtown Castle</td>\n      <td>2845</td>\n      <td>Jennifer</td>\n      <td>Manhattan</td>\n      <td>Midtown</td>\n      <td>40.75362</td>\n      <td>-73.98377</td>\n      <td>Entire home/apt</td>\n      <td>225</td>\n      <td>1</td>\n      <td>45</td>\n      <td>2019-05-21</td>\n      <td>0.38</td>\n      <td>2</td>\n      <td>355</td>\n    </tr>\n    <tr>\n      <th>2</th>\n      <td>3647</td>\n      <td>THE VILLAGE OF HARLEM....NEW YORK !</td>\n      <td>4632</td>\n      <td>Elisabeth</td>\n      <td>Manhattan</td>\n      <td>Harlem</td>\n      <td>40.80902</td>\n      <td>-73.94190</td>\n      <td>Private room</td>\n      <td>150</td>\n      <td>3</td>\n      <td>0</td>\n      <td>NaN</td>\n      <td>NaN</td>\n      <td>1</td>\n      <td>365</td>\n    </tr>\n    <tr>\n      <th>3</th>\n      <td>3831</td>\n      <td>Cozy Entire Floor of Brownstone</td>\n      <td>4869</td>\n      <td>LisaRoxanne</td>\n      <td>Brooklyn</td>\n      <td>Clinton Hill</td>\n      <td>40.68514</td>\n      <td>-73.95976</td>\n      <td>Entire home/apt</td>\n      <td>89</td>\n      <td>1</td>\n      <td>270</td>\n      <td>2019-07-05</td>\n      <td>4.64</td>\n      <td>1</td>\n      <td>194</td>\n    </tr>\n    <tr>\n      <th>4</th>\n      <td>5022</td>\n      <td>Entire Apt: Spacious Studio/Loft by central park</td>\n      <td>7192</td>\n      <td>Laura</td>\n      <td>Manhattan</td>\n      <td>East Harlem</td>\n      <td>40.79851</td>\n      <td>-73.94399</td>\n      <td>Entire home/apt</td>\n      <td>80</td>\n      <td>10</td>\n      <td>9</td>\n      <td>2018-11-19</td>\n      <td>0.10</td>\n      <td>1</td>\n      <td>0</td>\n    </tr>\n  </tbody>\n</table>\n</div>"
     },
     "execution_count": 6,
     "metadata": {},
     "output_type": "execute_result"
    }
   ],
   "source": [
    "df = pd.read_csv('./data/AB_NYC_2019.csv')\n",
    "df.head()"
   ],
   "metadata": {
    "collapsed": false,
    "pycharm": {
     "name": "#%%\n"
    }
   }
  },
  {
   "cell_type": "code",
   "execution_count": 18,
   "outputs": [
    {
     "name": "stdout",
     "output_type": "stream",
     "text": [
      "(48895, 16)\n"
     ]
    },
    {
     "data": {
      "text/plain": "Index(['id', 'name', 'host_id', 'host_name', 'neighbourhood_group',\n       'neighbourhood', 'latitude', 'longitude', 'room_type', 'price',\n       'minimum_nights', 'number_of_reviews', 'last_review',\n       'reviews_per_month', 'calculated_host_listings_count',\n       'availability_365'],\n      dtype='object')"
     },
     "execution_count": 18,
     "metadata": {},
     "output_type": "execute_result"
    }
   ],
   "source": [
    "print ( df.shape )\n",
    "df.columns"
   ],
   "metadata": {
    "collapsed": false,
    "pycharm": {
     "name": "#%%\n"
    }
   }
  },
  {
   "cell_type": "markdown",
   "source": [
    "### Features\n",
    "\n",
    "For the rest of the homework, you'll need to use the features from the previous homework with additional two `'neighbourhood_group'` and `'room_type'`. So the whole feature set will be set as follows:\n",
    "\n",
    "* `'neighbourhood_group'`,\n",
    "* `'room_type'`,\n",
    "* `'latitude'`,\n",
    "* `'longitude'`,\n",
    "* `'price'`,\n",
    "* `'minimum_nights'`,\n",
    "* `'number_of_reviews'`,\n",
    "* `'reviews_per_month'`,\n",
    "* `'calculated_host_listings_count'`,\n",
    "* `'availability_365'`\n",
    "\n",
    "Select only them and fill in the missing values with 0."
   ],
   "metadata": {
    "collapsed": false,
    "pycharm": {
     "name": "#%% md\n"
    }
   }
  },
  {
   "cell_type": "code",
   "execution_count": 17,
   "outputs": [
    {
     "name": "stdout",
     "output_type": "stream",
     "text": [
      "neighbourhood_group                   0\n",
      "room_type                             0\n",
      "latitude                              0\n",
      "longitude                             0\n",
      "price                                 0\n",
      "minimum_nights                        0\n",
      "number_of_reviews                     0\n",
      "reviews_per_month                 10052\n",
      "calculated_host_listings_count        0\n",
      "availability_365                      0\n",
      "dtype: int64\n"
     ]
    },
    {
     "data": {
      "text/plain": "  neighbourhood_group        room_type  latitude  longitude  price  \\\n0            Brooklyn     Private room  40.64749  -73.97237    149   \n1           Manhattan  Entire home/apt  40.75362  -73.98377    225   \n2           Manhattan     Private room  40.80902  -73.94190    150   \n3            Brooklyn  Entire home/apt  40.68514  -73.95976     89   \n4           Manhattan  Entire home/apt  40.79851  -73.94399     80   \n\n   minimum_nights  number_of_reviews  reviews_per_month  \\\n0               1                  9               0.21   \n1               1                 45               0.38   \n2               3                  0               0.00   \n3               1                270               4.64   \n4              10                  9               0.10   \n\n   calculated_host_listings_count  availability_365  \n0                               6               365  \n1                               2               355  \n2                               1               365  \n3                               1               194  \n4                               1                 0  ",
      "text/html": "<div>\n<style scoped>\n    .dataframe tbody tr th:only-of-type {\n        vertical-align: middle;\n    }\n\n    .dataframe tbody tr th {\n        vertical-align: top;\n    }\n\n    .dataframe thead th {\n        text-align: right;\n    }\n</style>\n<table border=\"1\" class=\"dataframe\">\n  <thead>\n    <tr style=\"text-align: right;\">\n      <th></th>\n      <th>neighbourhood_group</th>\n      <th>room_type</th>\n      <th>latitude</th>\n      <th>longitude</th>\n      <th>price</th>\n      <th>minimum_nights</th>\n      <th>number_of_reviews</th>\n      <th>reviews_per_month</th>\n      <th>calculated_host_listings_count</th>\n      <th>availability_365</th>\n    </tr>\n  </thead>\n  <tbody>\n    <tr>\n      <th>0</th>\n      <td>Brooklyn</td>\n      <td>Private room</td>\n      <td>40.64749</td>\n      <td>-73.97237</td>\n      <td>149</td>\n      <td>1</td>\n      <td>9</td>\n      <td>0.21</td>\n      <td>6</td>\n      <td>365</td>\n    </tr>\n    <tr>\n      <th>1</th>\n      <td>Manhattan</td>\n      <td>Entire home/apt</td>\n      <td>40.75362</td>\n      <td>-73.98377</td>\n      <td>225</td>\n      <td>1</td>\n      <td>45</td>\n      <td>0.38</td>\n      <td>2</td>\n      <td>355</td>\n    </tr>\n    <tr>\n      <th>2</th>\n      <td>Manhattan</td>\n      <td>Private room</td>\n      <td>40.80902</td>\n      <td>-73.94190</td>\n      <td>150</td>\n      <td>3</td>\n      <td>0</td>\n      <td>0.00</td>\n      <td>1</td>\n      <td>365</td>\n    </tr>\n    <tr>\n      <th>3</th>\n      <td>Brooklyn</td>\n      <td>Entire home/apt</td>\n      <td>40.68514</td>\n      <td>-73.95976</td>\n      <td>89</td>\n      <td>1</td>\n      <td>270</td>\n      <td>4.64</td>\n      <td>1</td>\n      <td>194</td>\n    </tr>\n    <tr>\n      <th>4</th>\n      <td>Manhattan</td>\n      <td>Entire home/apt</td>\n      <td>40.79851</td>\n      <td>-73.94399</td>\n      <td>80</td>\n      <td>10</td>\n      <td>9</td>\n      <td>0.10</td>\n      <td>1</td>\n      <td>0</td>\n    </tr>\n  </tbody>\n</table>\n</div>"
     },
     "execution_count": 17,
     "metadata": {},
     "output_type": "execute_result"
    }
   ],
   "source": [
    "feature_columns = ['neighbourhood_group', 'room_type', 'latitude', 'longitude',\n",
    "'price', 'minimum_nights', 'number_of_reviews', 'reviews_per_month', 'calculated_host_listings_count',\n",
    "'availability_365']\n",
    "print( df[feature_columns].isna().sum() )\n",
    "#df.isnull().sum()\n",
    "\n",
    "df[feature_columns] = df[feature_columns].fillna(0)\n",
    "df_sel = df[feature_columns]\n",
    "df_sel.head()"
   ],
   "metadata": {
    "collapsed": false,
    "pycharm": {
     "name": "#%%\n"
    }
   }
  },
  {
   "cell_type": "markdown",
   "source": [
    "### Question 1\n",
    "\n",
    "What is the most frequent observation (mode) for the column `'neighbourhood_group'`?"
   ],
   "metadata": {
    "collapsed": false,
    "pycharm": {
     "name": "#%% md\n"
    }
   }
  },
  {
   "cell_type": "code",
   "execution_count": 33,
   "outputs": [
    {
     "name": "stdout",
     "output_type": "stream",
     "text": [
      "Manhattan        21661\n",
      "Brooklyn         20104\n",
      "Queens            5666\n",
      "Bronx             1091\n",
      "Staten Island      373\n",
      "Name: neighbourhood_group, dtype: int64\n"
     ]
    },
    {
     "data": {
      "text/plain": "Manhattan    21661\nName: neighbourhood_group, dtype: int64"
     },
     "execution_count": 33,
     "metadata": {},
     "output_type": "execute_result"
    }
   ],
   "source": [
    "print(df_sel['neighbourhood_group'].value_counts())\n",
    "df_sel['neighbourhood_group'].value_counts().head(1)"
   ],
   "metadata": {
    "collapsed": false,
    "pycharm": {
     "name": "#%%\n"
    }
   }
  },
  {
   "cell_type": "markdown",
   "source": [
    "Answer: 'Manhattan'"
   ],
   "metadata": {
    "collapsed": false,
    "pycharm": {
     "name": "#%% md\n"
    }
   }
  },
  {
   "cell_type": "markdown",
   "source": [
    "### Split the data\n",
    "\n",
    "* Split your data in train/val/test sets, with 60%/20%/20% distribution.\n",
    "* Use Scikit-Learn for that (the `train_test_split` function) and set the seed to 42.\n",
    "* Make sure that the target value ('price') is not in your dataframe."
   ],
   "metadata": {
    "collapsed": false,
    "pycharm": {
     "name": "#%% md\n"
    }
   }
  },
  {
   "cell_type": "code",
   "execution_count": 34,
   "outputs": [],
   "source": [
    "from sklearn.model_selection import train_test_split"
   ],
   "metadata": {
    "collapsed": false,
    "pycharm": {
     "name": "#%%\n"
    }
   }
  },
  {
   "cell_type": "code",
   "execution_count": null,
   "outputs": [],
   "source": [
    "df.drop('a', inplace=True, axis=1)"
   ],
   "metadata": {
    "collapsed": false,
    "pycharm": {
     "name": "#%%\n"
    }
   }
  },
  {
   "cell_type": "code",
   "execution_count": 88,
   "outputs": [],
   "source": [
    "def create_split(df_to_split, train_size=0.6, val_size=0.2, test_size=0.2):\n",
    "    assert (test_size < 1)\n",
    "    assert (train_size + val_size + test_size == 1)\n",
    "    df_full_train, df_test = train_test_split(df_to_split, test_size=test_size, random_state=42)\n",
    "    df_train, df_val = train_test_split(df_full_train, test_size=val_size/(1-test_size), random_state=42) # 0.25 since df_full_train is already at 0.8 size\n",
    "    df_train = df_train.reset_index(drop=True)\n",
    "    df_val = df_val.reset_index(drop=True)\n",
    "    df_test = df_test.reset_index(drop=True)\n",
    "    return df_train, df_val, df_test\n",
    "\n",
    "def create_targets(dfs, target_column_name):\n",
    "    to_ret = []\n",
    "    for df in dfs:\n",
    "        y = df[target_column_name].values\n",
    "        new_df = df.drop(target_column_name, inplace=False, axis=1)\n",
    "        to_ret.append((new_df, y))\n",
    "    return to_ret\n"
   ],
   "metadata": {
    "collapsed": false,
    "pycharm": {
     "name": "#%%\n"
    }
   }
  },
  {
   "cell_type": "code",
   "execution_count": 96,
   "outputs": [
    {
     "data": {
      "text/plain": "(29337, 9779, 9779)"
     },
     "execution_count": 96,
     "metadata": {},
     "output_type": "execute_result"
    }
   ],
   "source": [
    "df_train, df_val, df_test = create_split(df_sel)\n",
    "len(df_train), len(df_val), len(df_test)\n"
   ],
   "metadata": {
    "collapsed": false,
    "pycharm": {
     "name": "#%%\n"
    }
   }
  },
  {
   "cell_type": "code",
   "execution_count": 97,
   "outputs": [],
   "source": [
    "(df_train_no_y, y_train), (df_val_no_y, y_val), (df_test_no_y, y_test) = create_targets((df_train, df_val, df_test), 'price')"
   ],
   "metadata": {
    "collapsed": false,
    "pycharm": {
     "name": "#%%\n"
    }
   }
  },
  {
   "cell_type": "code",
   "execution_count": 98,
   "outputs": [
    {
     "data": {
      "text/plain": "  neighbourhood_group        room_type  latitude  longitude  minimum_nights  \\\n0            Brooklyn  Entire home/apt  40.72760  -73.94495               3   \n1           Manhattan     Private room  40.70847  -74.00498               1   \n2               Bronx  Entire home/apt  40.83149  -73.92766              40   \n3            Brooklyn  Entire home/apt  40.66448  -73.99407               2   \n4           Manhattan     Private room  40.74118  -74.00012               1   \n\n   number_of_reviews  reviews_per_month  calculated_host_listings_count  \\\n0                 29               0.70                              13   \n1                  0               0.00                               1   \n2                  0               0.00                               1   \n3                  3               0.08                               1   \n4                 48               1.80                               2   \n\n   availability_365  \n0                50  \n1                 7  \n2                 0  \n3                 0  \n4                67  ",
      "text/html": "<div>\n<style scoped>\n    .dataframe tbody tr th:only-of-type {\n        vertical-align: middle;\n    }\n\n    .dataframe tbody tr th {\n        vertical-align: top;\n    }\n\n    .dataframe thead th {\n        text-align: right;\n    }\n</style>\n<table border=\"1\" class=\"dataframe\">\n  <thead>\n    <tr style=\"text-align: right;\">\n      <th></th>\n      <th>neighbourhood_group</th>\n      <th>room_type</th>\n      <th>latitude</th>\n      <th>longitude</th>\n      <th>minimum_nights</th>\n      <th>number_of_reviews</th>\n      <th>reviews_per_month</th>\n      <th>calculated_host_listings_count</th>\n      <th>availability_365</th>\n    </tr>\n  </thead>\n  <tbody>\n    <tr>\n      <th>0</th>\n      <td>Brooklyn</td>\n      <td>Entire home/apt</td>\n      <td>40.72760</td>\n      <td>-73.94495</td>\n      <td>3</td>\n      <td>29</td>\n      <td>0.70</td>\n      <td>13</td>\n      <td>50</td>\n    </tr>\n    <tr>\n      <th>1</th>\n      <td>Manhattan</td>\n      <td>Private room</td>\n      <td>40.70847</td>\n      <td>-74.00498</td>\n      <td>1</td>\n      <td>0</td>\n      <td>0.00</td>\n      <td>1</td>\n      <td>7</td>\n    </tr>\n    <tr>\n      <th>2</th>\n      <td>Bronx</td>\n      <td>Entire home/apt</td>\n      <td>40.83149</td>\n      <td>-73.92766</td>\n      <td>40</td>\n      <td>0</td>\n      <td>0.00</td>\n      <td>1</td>\n      <td>0</td>\n    </tr>\n    <tr>\n      <th>3</th>\n      <td>Brooklyn</td>\n      <td>Entire home/apt</td>\n      <td>40.66448</td>\n      <td>-73.99407</td>\n      <td>2</td>\n      <td>3</td>\n      <td>0.08</td>\n      <td>1</td>\n      <td>0</td>\n    </tr>\n    <tr>\n      <th>4</th>\n      <td>Manhattan</td>\n      <td>Private room</td>\n      <td>40.74118</td>\n      <td>-74.00012</td>\n      <td>1</td>\n      <td>48</td>\n      <td>1.80</td>\n      <td>2</td>\n      <td>67</td>\n    </tr>\n  </tbody>\n</table>\n</div>"
     },
     "execution_count": 98,
     "metadata": {},
     "output_type": "execute_result"
    }
   ],
   "source": [
    "df_train_no_y.head()"
   ],
   "metadata": {
    "collapsed": false,
    "pycharm": {
     "name": "#%%\n"
    }
   }
  },
  {
   "cell_type": "markdown",
   "source": [
    "### Question 2\n",
    "\n",
    "* Create the [correlation matrix](https://www.google.com/search?q=correlation+matrix) for the numerical features of your train dataset.\n",
    "   * In a correlation matrix, you compute the correlation coefficient between every pair of features in the dataset.\n",
    "* What are the two features that have the biggest correlation in this dataset?\n",
    "\n",
    "Example of a correlation matrix for the car price dataset:\n",
    "\n",
    "<img src=\"images/correlation-matrix.png\" />"
   ],
   "metadata": {
    "collapsed": false,
    "pycharm": {
     "name": "#%% md\n"
    }
   }
  },
  {
   "cell_type": "markdown",
   "source": [
    "see:\n",
    "[https://medium.com/@szabo.bibor/how-to-create-a-seaborn-correlation-heatmap-in-python-834c0686b88e](https://medium.com/@szabo.bibor/how-to-create-a-seaborn-correlation-heatmap-in-python-834c0686b88e)"
   ],
   "metadata": {
    "collapsed": false,
    "pycharm": {
     "name": "#%% md\n"
    }
   }
  },
  {
   "cell_type": "code",
   "execution_count": 44,
   "outputs": [
    {
     "data": {
      "text/plain": "<Figure size 1152x432 with 2 Axes>",
      "image/png": "[encoded data removed]"
     },
     "metadata": {
      "needs_background": "light"
     },
     "output_type": "display_data"
    }
   ],
   "source": [
    "plt.figure(figsize=(16, 6))\n",
    "heatmap = sns.heatmap(df_sel.corr(), vmin=-1, vmax=1, annot=True, cmap='BrBG')\n",
    "heatmap.set_title('Correlation Heatmap', fontdict={'fontsize':18}, pad=12);# save heatmap as .png file\n",
    "# dpi - sets the resolution of the saved image in dots/inches\n",
    "# bbox_inches - when set to 'tight' - does not allow the labels to be croppedplt.savefig('heatmap.png', dpi=300, bbox_inches='tight')\n"
   ],
   "metadata": {
    "collapsed": false,
    "pycharm": {
     "name": "#%%\n"
    }
   }
  },
  {
   "cell_type": "code",
   "execution_count": 45,
   "outputs": [
    {
     "data": {
      "text/plain": "<Figure size 576x864 with 2 Axes>",
      "image/png": "[encoded data removed]"
     },
     "metadata": {
      "needs_background": "light"
     },
     "output_type": "display_data"
    }
   ],
   "source": [
    "plt.figure(figsize=(8, 12))\n",
    "heatmap = sns.heatmap(df_sel.corr()[['price']].sort_values(by='price', ascending=False), vmin=-1, vmax=1, annot=True, cmap='BrBG')\n",
    "heatmap.set_title('Features Correlating with price', fontdict={'fontsize':18}, pad=16);\n"
   ],
   "metadata": {
    "collapsed": false,
    "pycharm": {
     "name": "#%%\n"
    }
   }
  },
  {
   "cell_type": "code",
   "execution_count": 47,
   "outputs": [
    {
     "data": {
      "text/plain": "latitude                        latitude                          1.000000\nlongitude                       longitude                         1.000000\ncalculated_host_listings_count  calculated_host_listings_count    1.000000\nreviews_per_month               reviews_per_month                 1.000000\nnumber_of_reviews               number_of_reviews                 1.000000\n                                                                    ...   \ncalculated_host_listings_count  longitude                        -0.114713\nminimum_nights                  reviews_per_month                -0.124905\nreviews_per_month               minimum_nights                   -0.124905\nprice                           longitude                        -0.150019\nlongitude                       price                            -0.150019\nLength: 64, dtype: float64"
     },
     "execution_count": 47,
     "metadata": {},
     "output_type": "execute_result"
    }
   ],
   "source": [
    "df_sel.corr().unstack().sort_values(ascending = False)\n"
   ],
   "metadata": {
    "collapsed": false,
    "pycharm": {
     "name": "#%%\n"
    }
   }
  },
  {
   "cell_type": "markdown",
   "source": [
    "Q2 answer:\n",
    "'reviews_per_month' and 'number of reviews'\n"
   ],
   "metadata": {
    "collapsed": false,
    "pycharm": {
     "name": "#%% md\n"
    }
   }
  },
  {
   "cell_type": "markdown",
   "source": [
    "\n",
    "### Make price binary\n",
    "\n",
    "* We need to turn the price variable from numeric into binary.\n",
    "* Let's create a variable `above_average` which is `1` if the price is above (or equal to) `152`.\n"
   ],
   "metadata": {
    "collapsed": false,
    "pycharm": {
     "name": "#%% md\n"
    }
   }
  },
  {
   "cell_type": "code",
   "execution_count": 75,
   "outputs": [
    {
     "name": "stdout",
     "output_type": "stream",
     "text": [
      "152.7206871868289\n"
     ]
    },
    {
     "data": {
      "text/plain": "neighbourhood_group               48895\nroom_type                         48895\nlatitude                          48895\nlongitude                         48895\nminimum_nights                    48895\nnumber_of_reviews                 48895\nreviews_per_month                 48895\ncalculated_host_listings_count    48895\navailability_365                  48895\nabove_average                     48895\ndtype: int64"
     },
     "execution_count": 75,
     "metadata": {},
     "output_type": "execute_result"
    }
   ],
   "source": [
    "data_class = df_sel.copy()\n",
    "mean = data_class['price'].mean()\n",
    "print(mean )\n",
    "\n",
    "data_class['above_average'] = np.where(data_class['price'] >= 152, 1, 0)\n",
    "data_class = data_class.drop('price', axis=1)\n",
    "data_class.count()"
   ],
   "metadata": {
    "collapsed": false,
    "pycharm": {
     "name": "#%%\n"
    }
   }
  },
  {
   "cell_type": "code",
   "execution_count": 100,
   "outputs": [
    {
     "name": "stdout",
     "output_type": "stream",
     "text": [
      "29337 9779 9779\n"
     ]
    },
    {
     "data": {
      "text/plain": "  neighbourhood_group        room_type  latitude  longitude  minimum_nights  \\\n0            Brooklyn  Entire home/apt  40.72760  -73.94495               3   \n1           Manhattan     Private room  40.70847  -74.00498               1   \n2               Bronx  Entire home/apt  40.83149  -73.92766              40   \n3            Brooklyn  Entire home/apt  40.66448  -73.99407               2   \n4           Manhattan     Private room  40.74118  -74.00012               1   \n\n   number_of_reviews  reviews_per_month  calculated_host_listings_count  \\\n0                 29               0.70                              13   \n1                  0               0.00                               1   \n2                  0               0.00                               1   \n3                  3               0.08                               1   \n4                 48               1.80                               2   \n\n   availability_365  \n0                50  \n1                 7  \n2                 0  \n3                 0  \n4                67  ",
      "text/html": "<div>\n<style scoped>\n    .dataframe tbody tr th:only-of-type {\n        vertical-align: middle;\n    }\n\n    .dataframe tbody tr th {\n        vertical-align: top;\n    }\n\n    .dataframe thead th {\n        text-align: right;\n    }\n</style>\n<table border=\"1\" class=\"dataframe\">\n  <thead>\n    <tr style=\"text-align: right;\">\n      <th></th>\n      <th>neighbourhood_group</th>\n      <th>room_type</th>\n      <th>latitude</th>\n      <th>longitude</th>\n      <th>minimum_nights</th>\n      <th>number_of_reviews</th>\n      <th>reviews_per_month</th>\n      <th>calculated_host_listings_count</th>\n      <th>availability_365</th>\n    </tr>\n  </thead>\n  <tbody>\n    <tr>\n      <th>0</th>\n      <td>Brooklyn</td>\n      <td>Entire home/apt</td>\n      <td>40.72760</td>\n      <td>-73.94495</td>\n      <td>3</td>\n      <td>29</td>\n      <td>0.70</td>\n      <td>13</td>\n      <td>50</td>\n    </tr>\n    <tr>\n      <th>1</th>\n      <td>Manhattan</td>\n      <td>Private room</td>\n      <td>40.70847</td>\n      <td>-74.00498</td>\n      <td>1</td>\n      <td>0</td>\n      <td>0.00</td>\n      <td>1</td>\n      <td>7</td>\n    </tr>\n    <tr>\n      <th>2</th>\n      <td>Bronx</td>\n      <td>Entire home/apt</td>\n      <td>40.83149</td>\n      <td>-73.92766</td>\n      <td>40</td>\n      <td>0</td>\n      <td>0.00</td>\n      <td>1</td>\n      <td>0</td>\n    </tr>\n    <tr>\n      <th>3</th>\n      <td>Brooklyn</td>\n      <td>Entire home/apt</td>\n      <td>40.66448</td>\n      <td>-73.99407</td>\n      <td>2</td>\n      <td>3</td>\n      <td>0.08</td>\n      <td>1</td>\n      <td>0</td>\n    </tr>\n    <tr>\n      <th>4</th>\n      <td>Manhattan</td>\n      <td>Private room</td>\n      <td>40.74118</td>\n      <td>-74.00012</td>\n      <td>1</td>\n      <td>48</td>\n      <td>1.80</td>\n      <td>2</td>\n      <td>67</td>\n    </tr>\n  </tbody>\n</table>\n</div>"
     },
     "execution_count": 100,
     "metadata": {},
     "output_type": "execute_result"
    }
   ],
   "source": [
    "df_class_train, df_class_val, df_class_test = create_split(data_class)\n",
    "print(len(df_class_train), len(df_class_val), len(df_class_test))\n",
    "\n",
    "(df_class_train_no_y, y_train), (df_class_val_no_y, y_val), (df_class_test_no_y, y_test) = create_targets((df_class_train, df_class_val, df_class_test), 'above_average')\n",
    "df_class_train.head()\n",
    "df_class_train_no_y.head()"
   ],
   "metadata": {
    "collapsed": false,
    "pycharm": {
     "name": "#%%\n"
    }
   }
  },
  {
   "cell_type": "markdown",
   "source": [
    "### Question 3\n",
    "\n",
    "* Calculate the mutual information score with the (binarized) price for the two categorical variables that we have. Use the training set only.\n",
    "* Which of these two variables has bigger score?\n",
    "* Round it to 2 decimal digits using `round(score, 2)`\n"
   ],
   "metadata": {
    "collapsed": false,
    "pycharm": {
     "name": "#%% md\n"
    }
   }
  },
  {
   "cell_type": "code",
   "execution_count": 83,
   "outputs": [],
   "source": [
    "from sklearn.metrics import mutual_info_score"
   ],
   "metadata": {
    "collapsed": false,
    "pycharm": {
     "name": "#%%\n"
    }
   }
  },
  {
   "cell_type": "code",
   "execution_count": 117,
   "outputs": [
    {
     "name": "stdout",
     "output_type": "stream",
     "text": [
      "neighbourhood_group                object\n",
      "room_type                          object\n",
      "latitude                          float64\n",
      "longitude                         float64\n",
      "minimum_nights                      int64\n",
      "number_of_reviews                   int64\n",
      "reviews_per_month                 float64\n",
      "calculated_host_listings_count      int64\n",
      "availability_365                    int64\n",
      "above_average                       int64\n",
      "dtype: object\n",
      "['neighbourhood_group', 'room_type', 'latitude', 'longitude', 'minimum_nights', 'number_of_reviews', 'reviews_per_month', 'calculated_host_listings_count', 'availability_365', 'above_average']\n",
      "categorical:  ['neighbourhood_group', 'room_type']\n",
      "numerical:  ['latitude', 'longitude', 'minimum_nights', 'number_of_reviews', 'reviews_per_month', 'calculated_host_listings_count', 'availability_365', 'above_average']\n"
     ]
    }
   ],
   "source": [
    "print(data_class.dtypes)\n",
    "print(data_class.columns.to_list())\n",
    "\n",
    "categorical = ['neighbourhood_group', 'room_type']\n",
    "numerical = data_class.columns.to_series()\n",
    "numerical = numerical.drop(categorical)\n",
    "print('categorical: ', categorical)\n",
    "print('numerical: ', numerical.to_list())\n"
   ],
   "metadata": {
    "collapsed": false,
    "pycharm": {
     "name": "#%%\n"
    }
   }
  },
  {
   "cell_type": "code",
   "execution_count": 106,
   "outputs": [
    {
     "data": {
      "text/plain": "                       MI\nroom_type            0.14\nneighbourhood_group  0.05",
      "text/html": "<div>\n<style scoped>\n    .dataframe tbody tr th:only-of-type {\n        vertical-align: middle;\n    }\n\n    .dataframe tbody tr th {\n        vertical-align: top;\n    }\n\n    .dataframe thead th {\n        text-align: right;\n    }\n</style>\n<table border=\"1\" class=\"dataframe\">\n  <thead>\n    <tr style=\"text-align: right;\">\n      <th></th>\n      <th>MI</th>\n    </tr>\n  </thead>\n  <tbody>\n    <tr>\n      <th>room_type</th>\n      <td>0.14</td>\n    </tr>\n    <tr>\n      <th>neighbourhood_group</th>\n      <td>0.05</td>\n    </tr>\n  </tbody>\n</table>\n</div>"
     },
     "execution_count": 106,
     "metadata": {},
     "output_type": "execute_result"
    }
   ],
   "source": [
    "def mutual_info_above_average_score(series):\n",
    "    return mutual_info_score(series, df_class_train.above_average)\n",
    "\n",
    "mi = df_class_train[categorical].apply(mutual_info_above_average_score)\n",
    "mi_df = pd.DataFrame(round(mi.sort_values(ascending=False), 2), columns=['MI'])\n",
    "mi_df"
   ],
   "metadata": {
    "collapsed": false,
    "pycharm": {
     "name": "#%%\n"
    }
   }
  },
  {
   "cell_type": "markdown",
   "source": [
    "Answer: 'room_type' has bigger score - 0.14"
   ],
   "metadata": {
    "collapsed": false,
    "pycharm": {
     "name": "#%% md\n"
    }
   }
  },
  {
   "cell_type": "markdown",
   "source": [
    "### Question 4\n",
    "\n",
    "* Now let's train a logistic regression\n",
    "* Remember that we have two categorical variables in the data. Include them using one-hot encoding.\n",
    "* Fit the model on the training dataset.\n",
    "   * To make sure the results are reproducible across different versions of Scikit-Learn, fit the model with these parameters:\n",
    "   * `model = LogisticRegression(solver='lbfgs', C=1.0, random_state=42)`\n",
    "* Calculate the accuracy on the validation dataset and round it to 2 decimal digits.\n",
    "\n"
   ],
   "metadata": {
    "collapsed": false,
    "pycharm": {
     "name": "#%% md\n"
    }
   }
  },
  {
   "cell_type": "code",
   "execution_count": 121,
   "outputs": [
    {
     "name": "stdout",
     "output_type": "stream",
     "text": [
      "29337 9779 9779\n"
     ]
    },
    {
     "data": {
      "text/plain": "  neighbourhood_group        room_type  latitude  longitude  minimum_nights  \\\n0            Brooklyn  Entire home/apt  40.72760  -73.94495               3   \n1           Manhattan     Private room  40.70847  -74.00498               1   \n2               Bronx  Entire home/apt  40.83149  -73.92766              40   \n3            Brooklyn  Entire home/apt  40.66448  -73.99407               2   \n4           Manhattan     Private room  40.74118  -74.00012               1   \n\n   number_of_reviews  reviews_per_month  calculated_host_listings_count  \\\n0                 29               0.70                              13   \n1                  0               0.00                               1   \n2                  0               0.00                               1   \n3                  3               0.08                               1   \n4                 48               1.80                               2   \n\n   availability_365  \n0                50  \n1                 7  \n2                 0  \n3                 0  \n4                67  ",
      "text/html": "<div>\n<style scoped>\n    .dataframe tbody tr th:only-of-type {\n        vertical-align: middle;\n    }\n\n    .dataframe tbody tr th {\n        vertical-align: top;\n    }\n\n    .dataframe thead th {\n        text-align: right;\n    }\n</style>\n<table border=\"1\" class=\"dataframe\">\n  <thead>\n    <tr style=\"text-align: right;\">\n      <th></th>\n      <th>neighbourhood_group</th>\n      <th>room_type</th>\n      <th>latitude</th>\n      <th>longitude</th>\n      <th>minimum_nights</th>\n      <th>number_of_reviews</th>\n      <th>reviews_per_month</th>\n      <th>calculated_host_listings_count</th>\n      <th>availability_365</th>\n    </tr>\n  </thead>\n  <tbody>\n    <tr>\n      <th>0</th>\n      <td>Brooklyn</td>\n      <td>Entire home/apt</td>\n      <td>40.72760</td>\n      <td>-73.94495</td>\n      <td>3</td>\n      <td>29</td>\n      <td>0.70</td>\n      <td>13</td>\n      <td>50</td>\n    </tr>\n    <tr>\n      <th>1</th>\n      <td>Manhattan</td>\n      <td>Private room</td>\n      <td>40.70847</td>\n      <td>-74.00498</td>\n      <td>1</td>\n      <td>0</td>\n      <td>0.00</td>\n      <td>1</td>\n      <td>7</td>\n    </tr>\n    <tr>\n      <th>2</th>\n      <td>Bronx</td>\n      <td>Entire home/apt</td>\n      <td>40.83149</td>\n      <td>-73.92766</td>\n      <td>40</td>\n      <td>0</td>\n      <td>0.00</td>\n      <td>1</td>\n      <td>0</td>\n    </tr>\n    <tr>\n      <th>3</th>\n      <td>Brooklyn</td>\n      <td>Entire home/apt</td>\n      <td>40.66448</td>\n      <td>-73.99407</td>\n      <td>2</td>\n      <td>3</td>\n      <td>0.08</td>\n      <td>1</td>\n      <td>0</td>\n    </tr>\n    <tr>\n      <th>4</th>\n      <td>Manhattan</td>\n      <td>Private room</td>\n      <td>40.74118</td>\n      <td>-74.00012</td>\n      <td>1</td>\n      <td>48</td>\n      <td>1.80</td>\n      <td>2</td>\n      <td>67</td>\n    </tr>\n  </tbody>\n</table>\n</div>"
     },
     "execution_count": 121,
     "metadata": {},
     "output_type": "execute_result"
    }
   ],
   "source": [
    "categorical=  ['neighbourhood_group', 'room_type']\n",
    "numerical=  ['latitude', 'longitude', 'minimum_nights', 'number_of_reviews', 'reviews_per_month', 'calculated_host_listings_count', 'availability_365']\n",
    "\n",
    "df_class_train, df_class_val, df_class_test = create_split(data_class)\n",
    "print(len(df_class_train), len(df_class_val), len(df_class_test))\n",
    "\n",
    "(df_class_train_no_y, y_train), (df_class_val_no_y, y_val), (df_class_test_no_y, y_test) = create_targets((df_class_train, df_class_val, df_class_test), 'above_average')\n",
    "df_class_train_no_y.head()"
   ],
   "metadata": {
    "collapsed": false,
    "pycharm": {
     "name": "#%%\n"
    }
   }
  },
  {
   "cell_type": "code",
   "execution_count": 128,
   "outputs": [],
   "source": [
    "from sklearn.feature_extraction import DictVectorizer\n",
    "from sklearn.linear_model import LogisticRegression\n",
    "from sklearn.metrics import accuracy_score"
   ],
   "metadata": {
    "collapsed": false,
    "pycharm": {
     "name": "#%%\n"
    }
   }
  },
  {
   "cell_type": "code",
   "execution_count": 122,
   "outputs": [],
   "source": [
    "dv = DictVectorizer(sparse=False)\n",
    "\n",
    "train_dict = df_class_train_no_y[categorical + numerical].to_dict(orient='records')\n",
    "X_train = dv.fit_transform(train_dict)\n",
    "\n",
    "val_dict = df_class_val_no_y[categorical + numerical].to_dict(orient='records')\n",
    "X_val = dv.transform(val_dict)"
   ],
   "metadata": {
    "collapsed": false,
    "pycharm": {
     "name": "#%%\n"
    }
   }
  },
  {
   "cell_type": "code",
   "execution_count": 136,
   "outputs": [
    {
     "name": "stdout",
     "output_type": "stream",
     "text": [
      "0.7816\n"
     ]
    }
   ],
   "source": [
    "model = LogisticRegression(solver='lbfgs', C=1.0, random_state=42)\n",
    "\n",
    "model.fit(X_train, y_train)\n",
    "\n",
    "val_dict = df_class_val_no_y[categorical + numerical].to_dict(orient='records')\n",
    "X_val = dv.transform(val_dict)\n",
    "\n",
    "y_pred = model.predict(X_val)\n",
    "\n",
    "accuracy = np.round(accuracy_score(y_val, y_pred), 4)\n",
    "print(accuracy)\n"
   ],
   "metadata": {
    "collapsed": false,
    "pycharm": {
     "name": "#%%\n"
    }
   }
  },
  {
   "cell_type": "markdown",
   "source": [
    "Answer Q4: accuracy is 0.79"
   ],
   "metadata": {
    "collapsed": false,
    "pycharm": {
     "name": "#%% md\n"
    }
   }
  },
  {
   "cell_type": "markdown",
   "source": [
    "### Question 5\n",
    "\n",
    "* We have 9 features: 7 numerical features and 2 categorical.\n",
    "* Let's find the least useful one using the *feature elimination* technique.\n",
    "* Train a model with all these features (using the same parameters as in Q4).\n",
    "* Now exclude each feature from this set and train a model without it. Record the accuracy for each model.\n",
    "* For each feature, calculate the difference between the original accuracy and the accuracy without the feature.\n",
    "* Which of following feature has the smallest difference?\n",
    "   * `neighbourhood_group`\n",
    "   * `room_type`\n",
    "   * `number_of_reviews`\n",
    "   * `reviews_per_month`\n",
    "\n",
    "> **note**: the difference doesn't have to be positive\n"
   ],
   "metadata": {
    "collapsed": false,
    "pycharm": {
     "name": "#%% md\n"
    }
   }
  },
  {
   "cell_type": "code",
   "execution_count": 147,
   "outputs": [
    {
     "name": "stdout",
     "output_type": "stream",
     "text": [
      "categorical: ['neighbourhood_group', 'room_type']\n",
      "numerical: ['latitude', 'longitude', 'minimum_nights', 'number_of_reviews', 'reviews_per_month', 'calculated_host_listings_count', 'availability_365']\n",
      "features: ['neighbourhood_group', 'room_type', 'latitude', 'longitude', 'minimum_nights', 'number_of_reviews', 'reviews_per_month', 'calculated_host_listings_count', 'availability_365']\n",
      "accuracy when removed feature neighbourhood_group: 0.751 , difference: 0.030600\n",
      "accuracy when removed feature room_type: 0.7163 , difference: 0.065300\n",
      "accuracy when removed feature latitude: 0.7864 , difference: -0.004800\n",
      "accuracy when removed feature longitude: 0.7868 , difference: -0.005200\n",
      "accuracy when removed feature minimum_nights: 0.7857 , difference: -0.004100\n",
      "accuracy when removed feature number_of_reviews: 0.787 , difference: -0.005400\n",
      "accuracy when removed feature reviews_per_month: 0.7855 , difference: -0.003900\n",
      "accuracy when removed feature calculated_host_listings_count: 0.7867 , difference: -0.005100\n",
      "accuracy when removed feature availability_365: 0.7816 , difference: 0.000000\n",
      "[('all', 0.7816, 0), ('neighbourhood_group', 0.751, 0.03059999999999996), ('room_type', 0.7163, 0.06529999999999991), ('latitude', 0.7864, -0.0048000000000000265), ('longitude', 0.7868, -0.0052000000000000934), ('minimum_nights', 0.7857, -0.0040999999999999925), ('number_of_reviews', 0.787, -0.005400000000000071), ('reviews_per_month', 0.7855, -0.0039000000000000146), ('calculated_host_listings_count', 0.7867, -0.005099999999999993), ('availability_365', 0.7816, 0.0)]\n"
     ]
    }
   ],
   "source": [
    "original_accuracy = accuracy\n",
    "\n",
    "features = categorical + numerical\n",
    "\n",
    "print(\"categorical:\", categorical)\n",
    "print(\"numerical:\", numerical)\n",
    "print(\"features:\", features)\n",
    "\n",
    "val_accuracies = []\n",
    "val_accuracies.append(('all', original_accuracy, 0))\n",
    "\n",
    "for c in features:\n",
    "    features_copy = features.copy()\n",
    "\n",
    "    features_copy.remove(c)\n",
    "\n",
    "    dv = DictVectorizer(sparse=False)\n",
    "\n",
    "    train_dict = df_class_train_no_y[features_copy].to_dict(orient='records')\n",
    "    X_train = dv.fit_transform(train_dict)\n",
    "\n",
    "    val_dict = df_class_val_no_y[features_copy].to_dict(orient='records')\n",
    "    X_val = dv.transform(val_dict)\n",
    "\n",
    "    model = LogisticRegression(solver='lbfgs', C=1.0, random_state=42)\n",
    "\n",
    "    model.fit(X_train, y_train)\n",
    "\n",
    "    val_dict = df_class_val_no_y[features_copy].to_dict(orient='records')\n",
    "    X_val = dv.transform(val_dict)\n",
    "\n",
    "    y_pred = model.predict(X_val)\n",
    "\n",
    "    accuracy = np.round(accuracy_score(y_val, y_pred), 4)\n",
    "    difference = original_accuracy - accuracy\n",
    "    val_accuracies.append((c, accuracy, difference))\n",
    "\n",
    "    print(f'accuracy when removed feature {c}: {accuracy} , difference: {difference:.6f}')\n",
    "\n",
    "print(val_accuracies)"
   ],
   "metadata": {
    "collapsed": false,
    "pycharm": {
     "name": "#%%\n"
    }
   }
  },
  {
   "cell_type": "code",
   "execution_count": 149,
   "outputs": [
    {
     "data": {
      "text/plain": "[('number_of_reviews', 0.787, -0.005400000000000071),\n ('longitude', 0.7868, -0.0052000000000000934),\n ('calculated_host_listings_count', 0.7867, -0.005099999999999993),\n ('latitude', 0.7864, -0.0048000000000000265),\n ('minimum_nights', 0.7857, -0.0040999999999999925),\n ('reviews_per_month', 0.7855, -0.0039000000000000146),\n ('all', 0.7816, 0),\n ('availability_365', 0.7816, 0.0),\n ('neighbourhood_group', 0.751, 0.03059999999999996),\n ('room_type', 0.7163, 0.06529999999999991)]"
     },
     "execution_count": 149,
     "metadata": {},
     "output_type": "execute_result"
    }
   ],
   "source": [
    "val_accuracies_sorted = sorted(val_accuracies, key=lambda item: item[2])\n",
    "val_accuracies_sorted"
   ],
   "metadata": {
    "collapsed": false,
    "pycharm": {
     "name": "#%%\n"
    }
   }
  },
  {
   "cell_type": "markdown",
   "source": [
    "Answer: 'number_of_reviews'"
   ],
   "metadata": {
    "collapsed": false,
    "pycharm": {
     "name": "#%% md\n"
    }
   }
  },
  {
   "cell_type": "markdown",
   "source": [
    "### Question 6\n",
    "\n",
    "* For this question, we'll see how to use a linear regression model from Scikit-Learn\n",
    "* We'll need to use the original column `'price'`. Apply the logarithmic transformation to this column.\n",
    "* Fit the Ridge regression model on the training data.\n",
    "* This model has a parameter `alpha`. Let's try the following values: `[0, 0.01, 0.1, 1, 10]`\n",
    "* Which of these alphas leads to the best RMSE on the validation set? Round your RMSE scores to 3 decimal digits.\n",
    "\n",
    "If there are multiple options, select the smallest `alpha`.\n"
   ],
   "metadata": {
    "collapsed": false,
    "pycharm": {
     "name": "#%% md\n"
    }
   }
  },
  {
   "cell_type": "code",
   "execution_count": 159,
   "outputs": [],
   "source": [
    "from sklearn.linear_model import LinearRegression\n",
    "from sklearn.linear_model import Ridge\n",
    "from sklearn.metrics import mean_squared_error\n"
   ],
   "metadata": {
    "collapsed": false,
    "pycharm": {
     "name": "#%%\n"
    }
   }
  },
  {
   "cell_type": "code",
   "execution_count": 153,
   "outputs": [],
   "source": [
    "df_sel_log = df_sel.copy()\n",
    "\n",
    "df_sel_log['price']=np.log1p(df_sel_log['price'])\n"
   ],
   "metadata": {
    "collapsed": false,
    "pycharm": {
     "name": "#%%\n"
    }
   }
  },
  {
   "cell_type": "code",
   "execution_count": 157,
   "outputs": [
    {
     "data": {
      "text/plain": "  neighbourhood_group        room_type  latitude  longitude     price  \\\n0            Brooklyn  Entire home/apt  40.72760  -73.94495  4.605170   \n1           Manhattan     Private room  40.70847  -74.00498  4.060443   \n2               Bronx  Entire home/apt  40.83149  -73.92766  4.262680   \n3            Brooklyn  Entire home/apt  40.66448  -73.99407  4.875197   \n4           Manhattan     Private room  40.74118  -74.00012  4.709530   \n\n   minimum_nights  number_of_reviews  reviews_per_month  \\\n0               3                 29               0.70   \n1               1                  0               0.00   \n2              40                  0               0.00   \n3               2                  3               0.08   \n4               1                 48               1.80   \n\n   calculated_host_listings_count  availability_365  \n0                              13                50  \n1                               1                 7  \n2                               1                 0  \n3                               1                 0  \n4                               2                67  ",
      "text/html": "<div>\n<style scoped>\n    .dataframe tbody tr th:only-of-type {\n        vertical-align: middle;\n    }\n\n    .dataframe tbody tr th {\n        vertical-align: top;\n    }\n\n    .dataframe thead th {\n        text-align: right;\n    }\n</style>\n<table border=\"1\" class=\"dataframe\">\n  <thead>\n    <tr style=\"text-align: right;\">\n      <th></th>\n      <th>neighbourhood_group</th>\n      <th>room_type</th>\n      <th>latitude</th>\n      <th>longitude</th>\n      <th>price</th>\n      <th>minimum_nights</th>\n      <th>number_of_reviews</th>\n      <th>reviews_per_month</th>\n      <th>calculated_host_listings_count</th>\n      <th>availability_365</th>\n    </tr>\n  </thead>\n  <tbody>\n    <tr>\n      <th>0</th>\n      <td>Brooklyn</td>\n      <td>Entire home/apt</td>\n      <td>40.72760</td>\n      <td>-73.94495</td>\n      <td>4.605170</td>\n      <td>3</td>\n      <td>29</td>\n      <td>0.70</td>\n      <td>13</td>\n      <td>50</td>\n    </tr>\n    <tr>\n      <th>1</th>\n      <td>Manhattan</td>\n      <td>Private room</td>\n      <td>40.70847</td>\n      <td>-74.00498</td>\n      <td>4.060443</td>\n      <td>1</td>\n      <td>0</td>\n      <td>0.00</td>\n      <td>1</td>\n      <td>7</td>\n    </tr>\n    <tr>\n      <th>2</th>\n      <td>Bronx</td>\n      <td>Entire home/apt</td>\n      <td>40.83149</td>\n      <td>-73.92766</td>\n      <td>4.262680</td>\n      <td>40</td>\n      <td>0</td>\n      <td>0.00</td>\n      <td>1</td>\n      <td>0</td>\n    </tr>\n    <tr>\n      <th>3</th>\n      <td>Brooklyn</td>\n      <td>Entire home/apt</td>\n      <td>40.66448</td>\n      <td>-73.99407</td>\n      <td>4.875197</td>\n      <td>2</td>\n      <td>3</td>\n      <td>0.08</td>\n      <td>1</td>\n      <td>0</td>\n    </tr>\n    <tr>\n      <th>4</th>\n      <td>Manhattan</td>\n      <td>Private room</td>\n      <td>40.74118</td>\n      <td>-74.00012</td>\n      <td>4.709530</td>\n      <td>1</td>\n      <td>48</td>\n      <td>1.80</td>\n      <td>2</td>\n      <td>67</td>\n    </tr>\n  </tbody>\n</table>\n</div>"
     },
     "execution_count": 157,
     "metadata": {},
     "output_type": "execute_result"
    }
   ],
   "source": [
    "df_train, df_val, df_test = create_split(df_sel_log)\n",
    "len(df_train), len(df_val), len(df_test)\n",
    "\n",
    "(df_train_no_y, y_train), (df_val_no_y, y_val), (df_test_no_y, y_test) = create_targets((df_train, df_val, df_test), 'price')\n",
    "\n",
    "df_train.head()"
   ],
   "metadata": {
    "collapsed": false,
    "pycharm": {
     "name": "#%%\n"
    }
   }
  },
  {
   "cell_type": "code",
   "execution_count": 161,
   "outputs": [
    {
     "name": "stdout",
     "output_type": "stream",
     "text": [
      "alpha: 0, rmse: 0.497\n",
      "alpha: 0.01, rmse: 0.497\n",
      "alpha: 0.1, rmse: 0.497\n",
      "alpha: 1, rmse: 0.497\n",
      "alpha: 10, rmse: 0.497\n",
      "[(0, 0.4971395363320049), (0.01, 0.4971395363320049), (0.1, 0.4971395363320049), (1, 0.4971395363320049), (10, 0.4971395363320049)]\n"
     ]
    }
   ],
   "source": [
    "dv = DictVectorizer(sparse=False)\n",
    "\n",
    "train_dict = df_train_no_y[categorical + numerical].to_dict(orient='records')\n",
    "X_train = dv.fit_transform(train_dict)\n",
    "\n",
    "rmse_scores = []\n",
    "\n",
    "for alpha in [0, 0.01, 0.1, 1, 10]:\n",
    "\n",
    "    model = Ridge(alpha=1, random_state=42)\n",
    "    model.fit(X_train, y_train)\n",
    "\n",
    "    val_dict = df_val_no_y[categorical + numerical].to_dict(orient='records')\n",
    "    X_val = dv.transform(val_dict)\n",
    "\n",
    "    y_pred = model.predict(X_val)\n",
    "\n",
    "    rmse = np.sqrt(mean_squared_error(y_val, y_pred))\n",
    "    rmse_scores.append((alpha, rmse))\n",
    "\n",
    "    print(f'alpha: {alpha}, rmse: {rmse:.3f}')\n",
    "\n",
    "print(rmse_scores)\n"
   ],
   "metadata": {
    "collapsed": false,
    "pycharm": {
     "name": "#%%\n"
    }
   }
  },
  {
   "cell_type": "markdown",
   "source": [
    "Answer Q6: 0 ( smallest alpha, all rmse scores are the same )"
   ],
   "metadata": {
    "collapsed": false,
    "pycharm": {
     "name": "#%% md\n"
    }
   }
  }
 ],
 "metadata": {
  "kernelspec": {
   "display_name": "Python 3",
   "language": "python",
   "name": "python3"
  },
  "language_info": {
   "codemirror_mode": {
    "name": "ipython",
    "version": 2
   },
   "file_extension": ".py",
   "mimetype": "text/x-python",
   "name": "python",
   "nbconvert_exporter": "python",
   "pygments_lexer": "ipython2",
   "version": "2.7.6"
  }
 },
 "nbformat": 4,
 "nbformat_minor": 0
}